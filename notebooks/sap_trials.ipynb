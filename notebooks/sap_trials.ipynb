{
 "cells": [
  {
   "cell_type": "markdown",
   "metadata": {},
   "source": [
    "# Test Sparse AP"
   ]
  },
  {
   "cell_type": "code",
   "execution_count": 1,
   "metadata": {
    "collapsed": false
   },
   "outputs": [
    {
     "data": {
      "text/plain": [
       "array([[ 1.,  2.,  0.,  0.,  0.],\n",
       "       [ 0.,  3.,  4.,  0.,  0.],\n",
       "       [ 0.,  0.,  5.,  0.,  0.],\n",
       "       [ 0.,  0.,  6.,  7.,  0.],\n",
       "       [ 0.,  0.,  3.,  8.,  9.]])"
      ]
     },
     "execution_count": 1,
     "metadata": {},
     "output_type": "execute_result"
    }
   ],
   "source": [
    "import numpy as np\n",
    "from scipy.sparse import csr_matrix\n",
    "\n",
    "data = np.array([1.,2,3,4,5,6,7,8,9])\n",
    "rows = np.array([0,0,1,1, 2,3,3,4,4])\n",
    "cols = np.array([0,1,1,2,2,2,3,3,4])\n",
    "data = np.append(data, 3)\n",
    "rows = np.append(rows, 4)\n",
    "cols = np.append(cols, 2)\n",
    "kk = np.argwhere(rows == cols).T[0]\n",
    "n = 5\n",
    "sm = csr_matrix((data, (rows, cols)), shape=(n, n))\n",
    "sm.toarray()"
   ]
  },
  {
   "cell_type": "code",
   "execution_count": 2,
   "metadata": {
    "collapsed": false
   },
   "outputs": [
    {
     "name": "stdout",
     "output_type": "stream",
     "text": [
      "[0 0 1 1 2 3 3 4 4 4]\n"
     ]
    }
   ],
   "source": [
    "print rows\n",
    "row_indptr = np.insert(np.where(np.diff(rows) > 0)[0] + 1, 0, 0)\n",
    "if row_indptr[-1] != data.shape[0]:\n",
    "    row_indptr = np.append(row_indptr, data.shape[0])"
   ]
  },
  {
   "cell_type": "code",
   "execution_count": 25,
   "metadata": {
    "collapsed": false
   },
   "outputs": [
    {
     "name": "stdout",
     "output_type": "stream",
     "text": [
      "[ 1.  2.  3.  4.  5.  6.  7.  8.  9.  3.]\n"
     ]
    },
    {
     "data": {
      "text/plain": [
       "array([[ 1.,  2.,  0.,  0.,  0.],\n",
       "       [ 0.,  3.,  4.,  0.,  0.],\n",
       "       [ 0.,  0.,  5.,  0.,  0.],\n",
       "       [ 0.,  0.,  6.,  7.,  0.],\n",
       "       [ 0.,  0.,  3.,  8.,  9.]])"
      ]
     },
     "execution_count": 25,
     "metadata": {},
     "output_type": "execute_result"
    }
   ],
   "source": [
    "print data\n",
    "sm = csr_matrix((data, (rows, cols)), shape=(n, n))\n",
    "sm.toarray()"
   ]
  },
  {
   "cell_type": "code",
   "execution_count": 40,
   "metadata": {
    "collapsed": false
   },
   "outputs": [
    {
     "data": {
      "text/plain": [
       "array([ True,  True, False, False], dtype=bool)"
      ]
     },
     "execution_count": 40,
     "metadata": {},
     "output_type": "execute_result"
    }
   ],
   "source": [
    "z = np.array([0,1,2,3])\n",
    "np.in1d(z, [0,1])"
   ]
  },
  {
   "cell_type": "code",
   "execution_count": 87,
   "metadata": {
    "collapsed": false
   },
   "outputs": [
    {
     "name": "stdout",
     "output_type": "stream",
     "text": [
      "[2] [4] [3.0]\n",
      "[2] [4] [ 3.]\n",
      "[0] [1] [2.0]\n",
      "[0] [1] [ 2.]\n",
      "[0, 4] [1, 2] [2.0, 3.0]\n",
      "[0 4] [1 2] [ 2.  3.]\n"
     ]
    }
   ],
   "source": [
    "from icing.externals import sparseMatrixPrepare\n",
    "reload(sparseMatrixPrepare)\n",
    "a,b,c,d,e,f = sparseMatrixPrepare.rmSingleSamples(rows, cols, data, n)"
   ]
  },
  {
   "cell_type": "code",
   "execution_count": 88,
   "metadata": {
    "collapsed": false
   },
   "outputs": [
    {
     "data": {
      "text/plain": [
       "array([[ 1.,  2.,  0.,  0.,  0.],\n",
       "       [ 2.,  3.,  4.,  0.,  0.],\n",
       "       [ 0.,  0.,  5.,  0.,  6.],\n",
       "       [ 0.,  0.,  6.,  7.,  0.],\n",
       "       [ 0.,  0.,  3.,  8.,  9.]])"
      ]
     },
     "execution_count": 88,
     "metadata": {},
     "output_type": "execute_result"
    }
   ],
   "source": [
    "sm = csr_matrix((c, (a, b)), shape=(f, f))\n",
    "sm.toarray()"
   ]
  },
  {
   "cell_type": "code",
   "execution_count": null,
   "metadata": {
    "collapsed": false
   },
   "outputs": [],
   "source": [
    "sm = csr_matrix((data, (rows, cols)), shape=(n, n))\n",
    "sm.toarray()"
   ]
  },
  {
   "cell_type": "code",
   "execution_count": null,
   "metadata": {
    "collapsed": false
   },
   "outputs": [],
   "source": [
    "np.max(sm.toarray(), axis=1)"
   ]
  },
  {
   "cell_type": "code",
   "execution_count": null,
   "metadata": {
    "collapsed": true
   },
   "outputs": [],
   "source": [
    "S = sm.toarray()"
   ]
  },
  {
   "cell_type": "code",
   "execution_count": null,
   "metadata": {
    "collapsed": false
   },
   "outputs": [],
   "source": [
    "tmp = S\n",
    "ind = np.arange(S.shape[0])"
   ]
  },
  {
   "cell_type": "code",
   "execution_count": null,
   "metadata": {
    "collapsed": false
   },
   "outputs": [],
   "source": [
    "I = np.argmax(tmp, axis=1)\n",
    "Y = tmp[ind, I]  # np.max(A + S, axis=1)\n",
    "tmp[ind, I] = -np.inf\n",
    "Y2 = np.max(tmp, axis=1)\n",
    "\n",
    "# tmp = Rnew\n",
    "np.subtract(S, Y[:, None], tmp)\n",
    "tmp[ind, I] = S[ind, I] - Y2"
   ]
  },
  {
   "cell_type": "code",
   "execution_count": null,
   "metadata": {
    "collapsed": false
   },
   "outputs": [],
   "source": [
    "tmp"
   ]
  },
  {
   "cell_type": "code",
   "execution_count": null,
   "metadata": {
    "collapsed": false
   },
   "outputs": [],
   "source": [
    "sm = csr_matrix((data, (rows, cols)), shape=(n, n))\n",
    "sm.toarray()"
   ]
  },
  {
   "cell_type": "code",
   "execution_count": null,
   "metadata": {
    "collapsed": false
   },
   "outputs": [],
   "source": [
    "from icing.externals import sparse_affinity_propagation as sap\n",
    "data"
   ]
  },
  {
   "cell_type": "code",
   "execution_count": null,
   "metadata": {
    "collapsed": false
   },
   "outputs": [],
   "source": [
    "reload(sap)\n",
    "data1 = data.copy()\n",
    "sap._sparse_sum_update(data1, rows, kk)\n",
    "data1"
   ]
  },
  {
   "cell_type": "code",
   "execution_count": null,
   "metadata": {
    "collapsed": false
   },
   "outputs": [],
   "source": [
    "data[kk] += 3"
   ]
  },
  {
   "cell_type": "code",
   "execution_count": null,
   "metadata": {
    "collapsed": false
   },
   "outputs": [],
   "source": [
    "kk"
   ]
  },
  {
   "cell_type": "code",
   "execution_count": null,
   "metadata": {
    "collapsed": false
   },
   "outputs": [],
   "source": [
    "data"
   ]
  },
  {
   "cell_type": "code",
   "execution_count": null,
   "metadata": {
    "collapsed": false
   },
   "outputs": [],
   "source": [
    "sm.toarray()"
   ]
  }
 ],
 "metadata": {
  "anaconda-cloud": {},
  "kernelspec": {
   "display_name": "Python [conda root]",
   "language": "python",
   "name": "conda-root-py"
  },
  "language_info": {
   "codemirror_mode": {
    "name": "ipython",
    "version": 2
   },
   "file_extension": ".py",
   "mimetype": "text/x-python",
   "name": "python",
   "nbconvert_exporter": "python",
   "pygments_lexer": "ipython2",
   "version": "2.7.12"
  }
 },
 "nbformat": 4,
 "nbformat_minor": 1
}
