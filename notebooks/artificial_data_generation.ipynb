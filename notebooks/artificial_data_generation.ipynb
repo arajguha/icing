{
 "cells": [
  {
   "cell_type": "code",
   "execution_count": 5,
   "metadata": {
    "collapsed": true
   },
   "outputs": [],
   "source": [
    "import numpy as np\n",
    "import pandas as pd\n",
    "import os\n",
    "import sys\n",
    "\n",
    "from subprocess import call"
   ]
  },
  {
   "cell_type": "markdown",
   "metadata": {},
   "source": [
    "# Using `partis` to generate synthetic datasets\n",
    "\n",
    "We can use the software `partis` to generate synthetic datasets. (**Add link to partis**)"
   ]
  },
  {
   "cell_type": "code",
   "execution_count": 3,
   "metadata": {
    "collapsed": true
   },
   "outputs": [],
   "source": [
    "# configuration\n",
    "partis_path = '/home/fede/src/partis_old'\n",
    "output_path = '/home/fede/projects_local/davide/data/partis_RAW_v2/'\n",
    "list_number_clones = [5000]\n",
    "n_iter = 3"
   ]
  },
  {
   "cell_type": "code",
   "execution_count": null,
   "metadata": {
    "collapsed": true
   },
   "outputs": [],
   "source": [
    "# for i in [100,500,1500,3000]:\n",
    "for i in list_number_clones:\n",
    "    for j in range(0, n_iter):\n",
    "        call('{1}/bin/partis simulate '\n",
    "             '--parameter-dir {1}/test/reference-results/test/parameters/data/ '\n",
    "             '--outfname {3}/clones_{0}.{2}.csv --n-sim-events {0} --n-leaves 200 '\n",
    "             '--n-procs 16'.format(i, partis_path, j, output_path).split(' '))"
   ]
  },
  {
   "cell_type": "markdown",
   "metadata": {},
   "source": [
    "This produces into `output_path` folder a list of RAW sequences.\n",
    "\n",
    "To simplify the processing of IMGT/HighV-Quest, let's a unique `fasta` file where, in the `ID` string, there is also the identity of the original database name. This will allow us to recover our original databases splitted."
   ]
  },
  {
   "cell_type": "code",
   "execution_count": 7,
   "metadata": {
    "collapsed": false
   },
   "outputs": [],
   "source": [
    "path = '/home/fede/projects_local/davide/data/partis_RAW_v2/'\n",
    "files = [path + x for x in os.listdir(path) if x.endswith('.csv')]\n",
    "num_files = 3\n",
    "\n",
    "for i in range(num_files):\n",
    "    with open(os.path.join(path, \"all_{}_of_{}.fasta\".format(i, num_files)), 'w') as f:\n",
    "        for x in files[i::num_files]:\n",
    "            df = pd.read_csv(x, index_col=None)\n",
    "            # f.write(\">\" + x + \"\\n\" + df['seq'][0] + \"\\n\")\n",
    "            for index, row in df.iterrows():\n",
    "                f.write(\">\" + \"_\".join([x.split('/')[-1]] + [str(a) for a in row.values[:-8]]))\n",
    "                f.write(\"\\n\")\n",
    "                f.write(row['seq'])\n",
    "                f.write(\"\\n\")"
   ]
  },
  {
   "cell_type": "markdown",
   "metadata": {},
   "source": [
    "Ok! Now we can use IMGT to convert our `fasta` file(s) into databases which we can use as input to ICING.\n",
    "To do so, connect to IMGT HighV-Quest software and upload the data.\n",
    "\n",
    "When finished, an email will notify that results are ready."
   ]
  },
  {
   "cell_type": "code",
   "execution_count": null,
   "metadata": {
    "collapsed": true
   },
   "outputs": [],
   "source": [
    "# run Changeo to convert IMGT into fasta file\n",
    "# python MakeDb.py imgt -i <imgt output, zip or folder> -s <original fasta file> --scores"
   ]
  },
  {
   "cell_type": "markdown",
   "metadata": {},
   "source": [
    "Divide now the IMGT-ChangeO processed files into a final list of databases which are usable from our method."
   ]
  },
  {
   "cell_type": "code",
   "execution_count": null,
   "metadata": {
    "collapsed": true
   },
   "outputs": [],
   "source": [
    "path = '/home/fede/projects_local/davide/data/partis_RAW_v3/'\n",
    "for f in [path + x for x in os.listdir(path) if x.endswith('db-pass.tab')]:\n",
    "    df = pd.read_csv(f, dialect='excel-tab')\n",
    "    # add the mut column\n",
    "    df['MUT'] = (1 - df['V_IDENTITY']) * 100.\n",
    "    \n",
    "    df['DB'] = df['SEQUENCE_ID'].str.split('.csv').apply(lambda x: min(x, key=len))\n",
    "    for i in df.DB.unique():\n",
    "        df[df.DB == i].to_csv(path+str(i)+'.tab', index=False, sep='\\t')"
   ]
  }
 ],
 "metadata": {
  "anaconda-cloud": {},
  "kernelspec": {
   "display_name": "Python [default]",
   "language": "python",
   "name": "python2"
  },
  "language_info": {
   "codemirror_mode": {
    "name": "ipython",
    "version": 2
   },
   "file_extension": ".py",
   "mimetype": "text/x-python",
   "name": "python",
   "nbconvert_exporter": "python",
   "pygments_lexer": "ipython2",
   "version": "2.7.13"
  }
 },
 "nbformat": 4,
 "nbformat_minor": 2
}
