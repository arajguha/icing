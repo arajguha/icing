{
 "cells": [
  {
   "cell_type": "markdown",
   "metadata": {},
   "source": [
    "Take Mem (you can combine MemA and MemG) and Naive, and filter per unique junctions.\n",
    "Divide the Mem in groups per mutation frequency, i.e. 1% interval and take only unmutated for Naive.\n",
    "For each subset calculate and plot the distance to the nearest sequence within each group (mutation interval) and between sequences from different groups.\n",
    "Do the same intra and inter donors.\n",
    "\n",
    "i.e.\n",
    "- distance between seqs within B4 Naive 0% mut group\n",
    "- distance between seqs within B4 Mem 0-1% mut group\n",
    "- distance between seqs within B4 Mem 1-2% mut group\n",
    "- ...\n",
    "- distance between seqs from B4 Mem 0-1% and 1-2%\n",
    "- distance between seqs from B4 Mem 0-1% and 2-3%\n",
    "- ...\n",
    "- distance between seqs from B4 Naive and B5 Naive\n",
    "- distance between seqs from B4 Mem 0-1% and B5 Mem 0-1%\n",
    "- distance between seqs from B4 Mem 1-2% and B5 Mem 1-2%\n",
    "- ...\n",
    "\n",
    "The results should give us a baseline distance and an idea about how it change in function of the mutation level."
   ]
  },
  {
   "cell_type": "code",
   "execution_count": 27,
   "metadata": {
    "collapsed": false
   },
   "outputs": [
    {
     "data": {
      "text/plain": [
       "'/home/fede/Dropbox/projects/ig_network'"
      ]
     },
     "execution_count": 27,
     "metadata": {},
     "output_type": "execute_result"
    }
   ],
   "source": [
    "%matplotlib inline\n",
    "import newDefineClones as cl\n",
    "import DbCore\n",
    "import re, sys\n",
    "import numpy as np\n",
    "import matplotlib.pyplot as plt\n",
    "import scipy\n",
    "import seaborn\n",
    "\n",
    "from itertools import product\n",
    "\n",
    "sys.path.insert(0,'/home/fede/Dropbox/projects/ig_network')\n",
    "import parallel_distance as pd\n",
    "reload(pd)\n",
    "sys.path.pop(0)\n"
   ]
  },
  {
   "cell_type": "code",
   "execution_count": 3,
   "metadata": {
    "collapsed": true
   },
   "outputs": [],
   "source": [
    "def remove_duplicate_junctions(l):\n",
    "    igs, juncs = [], []\n",
    "    for el in l:\n",
    "        if not el.junction in juncs:\n",
    "            juncs.append(re.sub('[\\.-]','N', str(el.junction)))\n",
    "            igs.append(el)\n",
    "    return igs, juncs\n",
    "\n",
    "def calcDist(el1, el2, mut=[]):\n",
    "    #consider ham model\n",
    "    return DbCore.calcSingleDistance(el1, el2, 1, cl.ham_model, 'min', cl.default_sym, mut, False)"
   ]
  },
  {
   "cell_type": "code",
   "execution_count": 4,
   "metadata": {
    "collapsed": false
   },
   "outputs": [],
   "source": [
    "in_file = DbCore.readDbFile('../new_seqs/B4_db-pass.tab_CON-FUN-N_new_ord-MUT.tab')\n",
    "all_seqs = [f for f in in_file]\n",
    "naive = [f for f in all_seqs if (f.subset=='N' and f.mut==0)]\n",
    "mem = [f for f in all_seqs if (f.subset in ['MemA','MemG'])]"
   ]
  },
  {
   "cell_type": "code",
   "execution_count": 5,
   "metadata": {
    "collapsed": false
   },
   "outputs": [],
   "source": [
    "naive_filtered, naive_filtered_junctions = remove_duplicate_junctions(naive)\n",
    "mem_filtered, mem_filtered_junctions = remove_duplicate_junctions(mem)"
   ]
  },
  {
   "cell_type": "code",
   "execution_count": null,
   "metadata": {
    "collapsed": false
   },
   "outputs": [],
   "source": [
    "print(\"Computing distance matrix for naive ...\")\n",
    "d_arr = distance_matrix_parallel(naive_filtered_junctions, calcDist, condensed=False)"
   ]
  },
  {
   "cell_type": "code",
   "execution_count": null,
   "metadata": {
    "collapsed": false
   },
   "outputs": [],
   "source": [
    "MM = d_arr + np.eye(d_arr.shape[0])\n",
    "MM\n",
    "np.save(\"dist2nearest_plots/distances_B4_naive_norm\", d_arr)\n",
    "np.savetxt(\"dist2nearest_plots/distances_B4_naive_norm.csv\", d_arr,delimiter=',')"
   ]
  },
  {
   "cell_type": "code",
   "execution_count": null,
   "metadata": {
    "collapsed": false
   },
   "outputs": [],
   "source": [
    "dist2nearest = np.array([np.min(r) for r in MM])\n",
    "f = plt.figure(figsize=(20,10))\n",
    "h = plt.hist(dist2nearest, bins=100)\n",
    "plt.title(\"(Normalised) distances between Naive B4\");\n",
    "plt.xlabel(\"Ham distance normalised\")\n",
    "plt.xticks(np.linspace(0,.5,11))\n",
    "plt.ylabel(\"Count\")\n",
    "plt.savefig(\"dist2nearest_plots/distances_B4_naive_norm\")"
   ]
  },
  {
   "cell_type": "code",
   "execution_count": null,
   "metadata": {
    "collapsed": true
   },
   "outputs": [],
   "source": [
    "# old\n",
    "def filter_ig(igs, lim_mut, type_ig='Mem', donor='B4', bins=30):\n",
    "    junctions = [re.sub('[\\.-]','N', str(ig.junction)) for ig in igs if lim_mut[0] <= ig.mut < lim_mut[1]]\n",
    "    X = pdc.distance_matrix_parallel(junctions, calcDist, condensed=False)\n",
    "    M = X + np.eye(X.shape[0])\n",
    "    np.save(\"dist2nearest_plots/distances_B4_naive_norm\", X)\n",
    "    np.savetxt(\"dist2nearest_plots/distances_B4_naive_norm.csv\", X, delimiter=',')\n",
    "    dist2nearest = np.array([np.min(r) for r in M])\n",
    "    f = plt.figure()\n",
    "    h = plt.hist(dist2nearest, bins=bins)\n",
    "    plt.title(\"Distances between \"+type_ig+\" \"+str(lim_mut[0])+\"-\"+str(lim_mut[1])+\"%\");\n",
    "    plt.ylabel('Count')\n",
    "    plt.xticks(np.linspace(0,1,21))\n",
    "    plt.xlabel('Ham distance')\n",
    "    plt.savefig(\"distances_\"+donor+'_'+type_ig.lower()+'_'+str(lim_mut[0])+'-'+str(lim_mut[1]))\n",
    "    plt.close()\n",
    "    return f"
   ]
  },
  {
   "cell_type": "code",
   "execution_count": 25,
   "metadata": {
    "collapsed": false
   },
   "outputs": [],
   "source": [
    "def filter_2(igs, lim_mut1, lim_mut2, type_ig='Mem', donor='B4', bins=100):\n",
    "    juncs1 = [re.sub('[\\.-]','N', str(ig.junction)) for ig in igs if lim_mut1[0] <= ig.mut < lim_mut1[1]]\n",
    "    juncs2 = [re.sub('[\\.-]','N', str(ig.junction)) for ig in igs if lim_mut2[0] <= ig.mut < lim_mut2[1]]\n",
    "    X = pd.dense_dm_dual(juncs1, juncs2, calcDist, condensed=False)\n",
    "    print X\n",
    "    fn = \"dist2nearest_plots_tmp/distances_\"+donor+'_'+type_ig.lower()+'_'+str(lim_mut1[0])+'-'+str(lim_mut1[1])+'_vs_'+str(lim_mut2[0])+'-'+str(lim_mut2[1])+\"_norm\"\n",
    "    np.save(fn, X)\n",
    "    dist2nearest = np.array([np.min(r[r>0]) for r in X])\n",
    "    f = plt.figure(figsize=(20,10))\n",
    "    plt.hist(dist2nearest, bins=bins)\n",
    "    plt.title(\"Distances between \"+type_ig+\" \"+str(lim_mut1[0])+\"-\"+str(lim_mut1[1])+\"% and \"+str(lim_mut2[0])+\"-\"+str(lim_mut2[1])+\"%\");\n",
    "    plt.ylabel('Count')\n",
    "    plt.xticks(np.linspace(0,1,21))\n",
    "    plt.xlabel('Ham distance (normalised)')\n",
    "    plt.savefig(fn)\n",
    "    plt.close()\n",
    "    return f"
   ]
  },
  {
   "cell_type": "code",
   "execution_count": null,
   "metadata": {
    "collapsed": true
   },
   "outputs": [],
   "source": [
    "# sets = [(x, x+1) for x in range(int(max([m.mut for m in mem_filtered if m.mut < 25])))]\n",
    "# sets.append((25,29))\n",
    "# combinations = [x for x in product(sets, sets) if x[0][0] <= x[1][0]]\n",
    "# for i, j in combinations:\n",
    "#     f = filter_2(mem_filtered, i, j, type_ig='Mem', donor='B4', bins=100)"
   ]
  },
  {
   "cell_type": "code",
   "execution_count": 7,
   "metadata": {
    "collapsed": false
   },
   "outputs": [
    {
     "data": {
      "text/plain": [
       "[((0, 2), (1, 2)),\n",
       " ((0, 3), (2, 3)),\n",
       " ((0, 4), (3, 4)),\n",
       " ((0, 5), (4, 5)),\n",
       " ((0, 6), (5, 6)),\n",
       " ((0, 7), (6, 7)),\n",
       " ((0, 8), (7, 8)),\n",
       " ((0, 9), (8, 9)),\n",
       " ((0, 10), (9, 10)),\n",
       " ((0, 11), (10, 11)),\n",
       " ((0, 12), (11, 12)),\n",
       " ((0, 13), (12, 13)),\n",
       " ((0, 14), (13, 14)),\n",
       " ((0, 15), (14, 15)),\n",
       " ((0, 16), (15, 16)),\n",
       " ((0, 17), (16, 17)),\n",
       " ((0, 18), (17, 18)),\n",
       " ((0, 19), (18, 19)),\n",
       " ((0, 20), (19, 20)),\n",
       " ((0, 21), (20, 21)),\n",
       " ((0, 22), (21, 22)),\n",
       " ((0, 23), (22, 23)),\n",
       " ((0, 29), (24, 29))]"
      ]
     },
     "execution_count": 7,
     "metadata": {},
     "output_type": "execute_result"
    }
   ],
   "source": [
    "sets = [(x, x+1) for x in range(int(max([m.mut for m in mem_filtered if m.mut < 24])))]\n",
    "sets.append((24,29))\n",
    "sets1 = [(0,i) for i in range(1, 24)]\n",
    "sets1.append((0,29))\n",
    "combinations = [x for x in zip(sets1, sets)][1:]\n",
    "combinations"
   ]
  },
  {
   "cell_type": "code",
   "execution_count": 28,
   "metadata": {
    "collapsed": false
   },
   "outputs": [
    {
     "name": "stdout",
     "output_type": "stream",
     "text": [
      "\u001b[1m352 / 352\u001b[0m [=====================================] \n",
      "[[ 0.          0.5625      0.20833333 ...,  0.5952381   0.70175439\n",
      "   0.66666667]\n",
      " [ 0.5625      0.          0.4375     ...,  0.57142857  0.6875      0.54166667]\n",
      " [ 0.20833333  0.4375      0.         ...,  0.64285714  0.6875      0.5625    ]\n",
      " ..., \n",
      " [ 0.43859649  0.45833333  0.45833333 ...,  0.47619048  0.70175439\n",
      "   0.58333333]\n",
      " [ 0.6875      0.52083333  0.66666667 ...,  0.47619048  0.5625      0.625     ]\n",
      " [ 0.66666667  0.5         0.64583333 ...,  0.5         0.58333333\n",
      "   0.60416667]]\n",
      "\u001b[1m0 / 942\u001b[0m [                                       ] "
     ]
    },
    {
     "name": "stderr",
     "output_type": "stream",
     "text": [
      "Exit signal received\n",
      "Terminating processes ...... done.\n",
      "Process Process-130:\n",
      "Process Process-132:\n",
      "Process Process-136:\n",
      "Process Process-137:\n",
      "Process Process-133:\n",
      "Process Process-142:\n",
      "Process Process-139:\n",
      "Process Process-141:\n",
      "Process Process-143:\n",
      "Process Process-140:\n",
      "Process Process-138:\n",
      "Process Process-134:\n",
      "Process Process-131:\n",
      "Process Process-144:\n",
      "Process Process-135:\n",
      "Traceback (most recent call last):\n",
      "Traceback (most recent call last):\n",
      "Traceback (most recent call last):\n",
      "Traceback (most recent call last):\n",
      "Traceback (most recent call last):\n",
      "Traceback (most recent call last):\n",
      "Traceback (most recent call last):\n",
      "Traceback (most recent call last):\n",
      "Traceback (most recent call last):\n",
      "Traceback (most recent call last):\n",
      "Traceback (most recent call last):\n",
      "Traceback (most recent call last):\n",
      "Traceback (most recent call last):\n",
      "Traceback (most recent call last):\n",
      "Traceback (most recent call last):\n",
      "  File \"/usr/lib/python2.7/multiprocessing/process.py\", line 258, in _bootstrap\n",
      "  File \"/usr/lib/python2.7/multiprocessing/process.py\", line 258, in _bootstrap\n",
      "  File \"/usr/lib/python2.7/multiprocessing/process.py\", line 258, in _bootstrap\n",
      "  File \"/usr/lib/python2.7/multiprocessing/process.py\", line 258, in _bootstrap\n",
      "  File \"/usr/lib/python2.7/multiprocessing/process.py\", line 258, in _bootstrap\n",
      "  File \"/usr/lib/python2.7/multiprocessing/process.py\", line 258, in _bootstrap\n",
      "  File \"/usr/lib/python2.7/multiprocessing/process.py\", line 258, in _bootstrap\n",
      "  File \"/usr/lib/python2.7/multiprocessing/process.py\", line 258, in _bootstrap\n",
      "  File \"/usr/lib/python2.7/multiprocessing/process.py\", line 258, in _bootstrap\n",
      "  File \"/usr/lib/python2.7/multiprocessing/process.py\", line 258, in _bootstrap\n",
      "  File \"/usr/lib/python2.7/multiprocessing/process.py\", line 258, in _bootstrap\n",
      "  File \"/usr/lib/python2.7/multiprocessing/process.py\", line 258, in _bootstrap\n",
      "  File \"/usr/lib/python2.7/multiprocessing/process.py\", line 258, in _bootstrap\n",
      "  File \"/usr/lib/python2.7/multiprocessing/process.py\", line 258, in _bootstrap\n",
      "  File \"/usr/lib/python2.7/multiprocessing/process.py\", line 258, in _bootstrap\n",
      "    self.run()\n",
      "    self.run()\n",
      "    self.run()\n",
      "    self.run()\n",
      "    self.run()\n",
      "    self.run()\n",
      "    self.run()\n",
      "    self.run()\n",
      "    self.run()\n",
      "    self.run()\n",
      "    self.run()\n",
      "    self.run()\n",
      "    self.run()\n",
      "    self.run()\n",
      "    self.run()\n",
      "  File \"/usr/lib/python2.7/multiprocessing/process.py\", line 114, in run\n",
      "  File \"/usr/lib/python2.7/multiprocessing/process.py\", line 114, in run\n",
      "  File \"/usr/lib/python2.7/multiprocessing/process.py\", line 114, in run\n",
      "  File \"/usr/lib/python2.7/multiprocessing/process.py\", line 114, in run\n",
      "  File \"/usr/lib/python2.7/multiprocessing/process.py\", line 114, in run\n",
      "  File \"/usr/lib/python2.7/multiprocessing/process.py\", line 114, in run\n",
      "  File \"/usr/lib/python2.7/multiprocessing/process.py\", line 114, in run\n",
      "  File \"/usr/lib/python2.7/multiprocessing/process.py\", line 114, in run\n",
      "  File \"/usr/lib/python2.7/multiprocessing/process.py\", line 114, in run\n",
      "  File \"/usr/lib/python2.7/multiprocessing/process.py\", line 114, in run\n",
      "  File \"/usr/lib/python2.7/multiprocessing/process.py\", line 114, in run\n",
      "  File \"/usr/lib/python2.7/multiprocessing/process.py\", line 114, in run\n",
      "  File \"/usr/lib/python2.7/multiprocessing/process.py\", line 114, in run\n",
      "  File \"/usr/lib/python2.7/multiprocessing/process.py\", line 114, in run\n",
      "  File \"/usr/lib/python2.7/multiprocessing/process.py\", line 114, in run\n",
      "    self._target(*self._args, **self._kwargs)\n",
      "    self._target(*self._args, **self._kwargs)\n",
      "    self._target(*self._args, **self._kwargs)\n",
      "    self._target(*self._args, **self._kwargs)\n",
      "    self._target(*self._args, **self._kwargs)\n",
      "    self._target(*self._args, **self._kwargs)\n",
      "    self._target(*self._args, **self._kwargs)\n",
      "    self._target(*self._args, **self._kwargs)\n",
      "    self._target(*self._args, **self._kwargs)\n",
      "    self._target(*self._args, **self._kwargs)\n",
      "    self._target(*self._args, **self._kwargs)\n",
      "    self._target(*self._args, **self._kwargs)\n",
      "    self._target(*self._args, **self._kwargs)\n",
      "    self._target(*self._args, **self._kwargs)\n",
      "    self._target(*self._args, **self._kwargs)\n",
      "  File \"/home/fede/Dropbox/projects/ig_network/parallel_distance.py\", line 69, in _dense_distance_dual\n",
      "  File \"/home/fede/Dropbox/projects/ig_network/parallel_distance.py\", line 69, in _dense_distance_dual\n",
      "  File \"/home/fede/Dropbox/projects/ig_network/parallel_distance.py\", line 69, in _dense_distance_dual\n",
      "  File \"/home/fede/Dropbox/projects/ig_network/parallel_distance.py\", line 69, in _dense_distance_dual\n",
      "  File \"/home/fede/Dropbox/projects/ig_network/parallel_distance.py\", line 69, in _dense_distance_dual\n",
      "  File \"/home/fede/Dropbox/projects/ig_network/parallel_distance.py\", line 69, in _dense_distance_dual\n",
      "  File \"/home/fede/Dropbox/projects/ig_network/parallel_distance.py\", line 69, in _dense_distance_dual\n",
      "  File \"/home/fede/Dropbox/projects/ig_network/parallel_distance.py\", line 69, in _dense_distance_dual\n",
      "  File \"/home/fede/Dropbox/projects/ig_network/parallel_distance.py\", line 69, in _dense_distance_dual\n",
      "  File \"/home/fede/Dropbox/projects/ig_network/parallel_distance.py\", line 69, in _dense_distance_dual\n",
      "  File \"/home/fede/Dropbox/projects/ig_network/parallel_distance.py\", line 69, in _dense_distance_dual\n",
      "  File \"/home/fede/Dropbox/projects/ig_network/parallel_distance.py\", line 69, in _dense_distance_dual\n",
      "  File \"/home/fede/Dropbox/projects/ig_network/parallel_distance.py\", line 69, in _dense_distance_dual\n",
      "  File \"/home/fede/Dropbox/projects/ig_network/parallel_distance.py\", line 69, in _dense_distance_dual\n",
      "  File \"/home/fede/Dropbox/projects/ig_network/parallel_distance.py\", line 69, in _dense_distance_dual\n",
      "    shared_arr[idx, idx_j] = dist_function(elem_1, list2[idx_j], [mut_elem_1, mutations[idx_j]]) if mutations else dist_function(elem_1, list2[idx_j])\n",
      "    shared_arr[idx, idx_j] = dist_function(elem_1, list2[idx_j], [mut_elem_1, mutations[idx_j]]) if mutations else dist_function(elem_1, list2[idx_j])\n",
      "    shared_arr[idx, idx_j] = dist_function(elem_1, list2[idx_j], [mut_elem_1, mutations[idx_j]]) if mutations else dist_function(elem_1, list2[idx_j])\n",
      "    shared_arr[idx, idx_j] = dist_function(elem_1, list2[idx_j], [mut_elem_1, mutations[idx_j]]) if mutations else dist_function(elem_1, list2[idx_j])\n",
      "    shared_arr[idx, idx_j] = dist_function(elem_1, list2[idx_j], [mut_elem_1, mutations[idx_j]]) if mutations else dist_function(elem_1, list2[idx_j])\n",
      "    shared_arr[idx, idx_j] = dist_function(elem_1, list2[idx_j], [mut_elem_1, mutations[idx_j]]) if mutations else dist_function(elem_1, list2[idx_j])\n",
      "    shared_arr[idx, idx_j] = dist_function(elem_1, list2[idx_j], [mut_elem_1, mutations[idx_j]]) if mutations else dist_function(elem_1, list2[idx_j])\n",
      "    shared_arr[idx, idx_j] = dist_function(elem_1, list2[idx_j], [mut_elem_1, mutations[idx_j]]) if mutations else dist_function(elem_1, list2[idx_j])\n",
      "    shared_arr[idx, idx_j] = dist_function(elem_1, list2[idx_j], [mut_elem_1, mutations[idx_j]]) if mutations else dist_function(elem_1, list2[idx_j])\n",
      "    shared_arr[idx, idx_j] = dist_function(elem_1, list2[idx_j], [mut_elem_1, mutations[idx_j]]) if mutations else dist_function(elem_1, list2[idx_j])\n",
      "    shared_arr[idx, idx_j] = dist_function(elem_1, list2[idx_j], [mut_elem_1, mutations[idx_j]]) if mutations else dist_function(elem_1, list2[idx_j])\n",
      "    shared_arr[idx, idx_j] = dist_function(elem_1, list2[idx_j], [mut_elem_1, mutations[idx_j]]) if mutations else dist_function(elem_1, list2[idx_j])\n",
      "    shared_arr[idx, idx_j] = dist_function(elem_1, list2[idx_j], [mut_elem_1, mutations[idx_j]]) if mutations else dist_function(elem_1, list2[idx_j])\n",
      "    shared_arr[idx, idx_j] = dist_function(elem_1, list2[idx_j], [mut_elem_1, mutations[idx_j]]) if mutations else dist_function(elem_1, list2[idx_j])\n",
      "    shared_arr[idx, idx_j] = dist_function(elem_1, list2[idx_j], [mut_elem_1, mutations[idx_j]]) if mutations else dist_function(elem_1, list2[idx_j])\n",
      "  File \"<ipython-input-3-a563383e8d57>\", line 11, in calcDist\n",
      "  File \"<ipython-input-3-a563383e8d57>\", line 11, in calcDist\n",
      "  File \"<ipython-input-3-a563383e8d57>\", line 11, in calcDist\n",
      "  File \"<ipython-input-3-a563383e8d57>\", line 11, in calcDist\n",
      "  File \"<ipython-input-3-a563383e8d57>\", line 11, in calcDist\n",
      "  File \"<ipython-input-3-a563383e8d57>\", line 11, in calcDist\n",
      "  File \"<ipython-input-3-a563383e8d57>\", line 11, in calcDist\n",
      "  File \"<ipython-input-3-a563383e8d57>\", line 11, in calcDist\n",
      "  File \"<ipython-input-3-a563383e8d57>\", line 11, in calcDist\n",
      "  File \"<ipython-input-3-a563383e8d57>\", line 11, in calcDist\n",
      "  File \"<ipython-input-3-a563383e8d57>\", line 11, in calcDist\n",
      "  File \"<ipython-input-3-a563383e8d57>\", line 11, in calcDist\n",
      "  File \"<ipython-input-3-a563383e8d57>\", line 11, in calcDist\n",
      "  File \"<ipython-input-3-a563383e8d57>\", line 11, in calcDist\n",
      "  File \"<ipython-input-3-a563383e8d57>\", line 11, in calcDist\n",
      "    return DbCore.calcSingleDistance(el1, el2, 1, cl.ham_model, 'min', cl.default_sym, mut, False)\n",
      "    return DbCore.calcSingleDistance(el1, el2, 1, cl.ham_model, 'min', cl.default_sym, mut, False)\n",
      "    return DbCore.calcSingleDistance(el1, el2, 1, cl.ham_model, 'min', cl.default_sym, mut, False)\n",
      "    return DbCore.calcSingleDistance(el1, el2, 1, cl.ham_model, 'min', cl.default_sym, mut, False)\n",
      "    return DbCore.calcSingleDistance(el1, el2, 1, cl.ham_model, 'min', cl.default_sym, mut, False)\n",
      "    return DbCore.calcSingleDistance(el1, el2, 1, cl.ham_model, 'min', cl.default_sym, mut, False)\n",
      "    return DbCore.calcSingleDistance(el1, el2, 1, cl.ham_model, 'min', cl.default_sym, mut, False)\n",
      "    return DbCore.calcSingleDistance(el1, el2, 1, cl.ham_model, 'min', cl.default_sym, mut, False)\n",
      "    return DbCore.calcSingleDistance(el1, el2, 1, cl.ham_model, 'min', cl.default_sym, mut, False)\n",
      "    return DbCore.calcSingleDistance(el1, el2, 1, cl.ham_model, 'min', cl.default_sym, mut, False)\n",
      "    return DbCore.calcSingleDistance(el1, el2, 1, cl.ham_model, 'min', cl.default_sym, mut, False)\n",
      "    return DbCore.calcSingleDistance(el1, el2, 1, cl.ham_model, 'min', cl.default_sym, mut, False)\n",
      "    return DbCore.calcSingleDistance(el1, el2, 1, cl.ham_model, 'min', cl.default_sym, mut, False)\n",
      "    return DbCore.calcSingleDistance(el1, el2, 1, cl.ham_model, 'min', cl.default_sym, mut, False)\n",
      "    return DbCore.calcSingleDistance(el1, el2, 1, cl.ham_model, 'min', cl.default_sym, mut, False)\n",
      "  File \"DbCore.py\", line 684, in calcSingleDistance\n",
      "  File \"DbCore.py\", line 684, in calcSingleDistance\n",
      "  File \"DbCore.py\", line 684, in calcSingleDistance\n",
      "  File \"DbCore.py\", line 684, in calcSingleDistance\n",
      "  File \"DbCore.py\", line 684, in calcSingleDistance\n",
      "  File \"DbCore.py\", line 684, in calcSingleDistance\n",
      "  File \"DbCore.py\", line 684, in calcSingleDistance\n",
      "  File \"DbCore.py\", line 684, in calcSingleDistance\n",
      "  File \"DbCore.py\", line 684, in calcSingleDistance\n",
      "  File \"DbCore.py\", line 656, in calcSingleDistance\n",
      "  File \"DbCore.py\", line 684, in calcSingleDistance\n",
      "  File \"DbCore.py\", line 684, in calcSingleDistance\n",
      "  File \"DbCore.py\", line 671, in calcSingleDistance\n",
      "  File \"DbCore.py\", line 671, in calcSingleDistance\n",
      "    for c1,c2,n1,n2 in izip(seqq1,seqq2,nmer1,nmer2)]) / \\\n",
      "    for c1,c2,n1,n2 in izip(seqq1,seqq2,nmer1,nmer2)]) / \\\n",
      "    for c1,c2,n1,n2 in izip(seqq1,seqq2,nmer1,nmer2)]) / \\\n",
      "    for c1,c2,n1,n2 in izip(seqq1,seqq2,nmer1,nmer2)]) / \\\n",
      "    for c1,c2,n1,n2 in izip(seqq1,seqq2,nmer1,nmer2)]) / \\\n",
      "    for c1,c2,n1,n2 in izip(seqq1,seqq2,nmer1,nmer2)]) / \\\n",
      "    for c1,c2,n1,n2 in izip(seqq1,seqq2,nmer1,nmer2)]) / \\\n",
      "    for c1,c2,n1,n2 in izip(seqq1,seqq2,nmer1,nmer2)]) / \\\n",
      "    for c1,c2,n1,n2 in izip(seqq1,seqq2,nmer1,nmer2)]) / \\\n",
      "    nmer1.append(nmers[seq1][i])\n",
      "    for c1,c2,n1,n2 in izip(seqq1,seqq2,nmer1,nmer2)]) / \\\n",
      "    for c1,c2,n1,n2 in izip(seqq1,seqq2,nmer1,nmer2)]) / \\\n",
      "    alpha_mut = np.poly1d(np.load(\"polyfit_arguments_2.npy\"))\n",
      "    alpha_mut = np.poly1d(np.load(\"polyfit_arguments_2.npy\"))\n",
      "  File \"/usr/local/lib/python2.7/dist-packages/pandas/core/indexing.py\", line 1555, in __getitem__\n",
      "  File \"/opt/python_local-packages/lib/python2.7/site-packages/numpy/core/fromnumeric.py\", line 2879, in mean\n",
      "  File \"/opt/python_local-packages/lib/python2.7/site-packages/numpy/core/fromnumeric.py\", line 2879, in mean\n",
      "  File \"/opt/python_local-packages/lib/python2.7/site-packages/numpy/core/fromnumeric.py\", line 2879, in mean\n",
      "KeyboardInterrupt\n",
      "  File \"/usr/local/lib/python2.7/dist-packages/pandas/core/indexing.py\", line 1555, in __getitem__\n",
      "  File \"/usr/local/lib/python2.7/dist-packages/pandas/core/indexing.py\", line 1554, in __getitem__\n",
      "  File \"/usr/local/lib/python2.7/dist-packages/pandas/core/generic.py\", line 1054, in _indexer\n",
      "KeyboardInterrupt\n",
      "KeyboardInterrupt\n",
      "  File \"/usr/local/lib/python2.7/dist-packages/pandas/core/indexing.py\", line 1555, in __getitem__\n",
      "  File \"/usr/local/lib/python2.7/dist-packages/pandas/core/indexing.py\", line 1554, in __getitem__\n",
      "  File \"/opt/python_local-packages/lib/python2.7/site-packages/numpy/lib/npyio.py\", line 406, in load\n",
      "  File \"/opt/python_local-packages/lib/python2.7/site-packages/numpy/lib/npyio.py\", line 406, in load\n",
      "    return self.obj.get_value(*key, takeable=self._takeable)\n",
      "    out=out, keepdims=keepdims)\n",
      "    out=out, keepdims=keepdims)\n",
      "    out=out, keepdims=keepdims)\n",
      "    return self.obj.get_value(*key, takeable=self._takeable)\n",
      "    key = self._convert_key(key)\n",
      "    i = getattr(self, iname)\n",
      "    return self.obj.get_value(*key, takeable=self._takeable)\n",
      "    key = self._convert_key(key)\n",
      "    pickle_kwargs=pickle_kwargs)\n",
      "    pickle_kwargs=pickle_kwargs)\n",
      "  File \"/usr/local/lib/python2.7/dist-packages/pandas/core/frame.py\", line 1813, in get_value\n",
      "  File \"/opt/python_local-packages/lib/python2.7/site-packages/numpy/core/_methods.py\", line 56, in _mean\n",
      "  File \"/opt/python_local-packages/lib/python2.7/site-packages/numpy/core/_methods.py\", line 54, in _mean\n",
      "  File \"/opt/python_local-packages/lib/python2.7/site-packages/numpy/core/_methods.py\", line 62, in _mean\n",
      "  File \"/opt/python_local-packages/lib/python2.7/site-packages/numpy/lib/format.py\", line 622, in read_array\n",
      "  File \"/usr/local/lib/python2.7/dist-packages/pandas/core/frame.py\", line 1813, in get_value\n",
      "  File \"/usr/local/lib/python2.7/dist-packages/pandas/core/indexing.py\", line 1587, in _convert_key\n",
      "KeyboardInterrupt\n",
      "  File \"/opt/python_local-packages/lib/python2.7/site-packages/numpy/lib/format.py\", line 622, in read_array\n",
      "  File \"/usr/local/lib/python2.7/dist-packages/pandas/core/indexing.py\", line 1586, in _convert_key\n",
      "  File \"/usr/local/lib/python2.7/dist-packages/pandas/core/frame.py\", line 1813, in get_value\n",
      "    return engine.get_value(series.get_values(), index)\n",
      "    rcount = _count_reduce_items(arr, axis)\n",
      "    arr = asanyarray(a)\n",
      "    if dtype is None and issubclass(arr.dtype.type, (nt.integer, nt.bool_)):\n",
      "    shape, fortran_order, dtype = _read_array_header(fp, version)\n",
      "    return engine.get_value(series.get_values(), index)\n",
      "    if ax.is_integer():\n",
      "    shape, fortran_order, dtype = _read_array_header(fp, version)\n",
      "    for ax, i in zip(self.obj.axes, key):\n",
      "    return engine.get_value(series.get_values(), index)\n",
      "KeyboardInterrupt\n",
      "  File \"/opt/python_local-packages/lib/python2.7/site-packages/numpy/core/_methods.py\", line 50, in _count_reduce_items\n",
      "  File \"/opt/python_local-packages/lib/python2.7/site-packages/numpy/core/numeric.py\", line 530, in asanyarray\n",
      "KeyboardInterrupt\n",
      "  File \"/opt/python_local-packages/lib/python2.7/site-packages/numpy/lib/format.py\", line 487, in _read_array_header\n",
      "  File \"/usr/local/lib/python2.7/dist-packages/pandas/core/series.py\", line 359, in get_values\n",
      "KeyboardInterrupt\n",
      "  File \"/usr/local/lib/python2.7/dist-packages/pandas/core/series.py\", line 359, in get_values\n",
      "  File \"/opt/python_local-packages/lib/python2.7/site-packages/numpy/lib/format.py\", line 487, in _read_array_header\n",
      "KeyboardInterrupt\n",
      "    items *= arr.shape[ax]\n",
      "    return array(a, dtype, copy=False, order=order, subok=True)\n",
      "    header = _filter_header(header)\n",
      "    return self._data.get_values()\n",
      "    return self._data.get_values()\n",
      "    header = _filter_header(header)\n",
      "  File \"/opt/python_local-packages/lib/python2.7/site-packages/numpy/lib/format.py\", line 458, in _filter_header\n",
      "KeyboardInterrupt\n",
      "KeyboardInterrupt\n",
      "  File \"/usr/local/lib/python2.7/dist-packages/pandas/core/internals.py\", line 3838, in get_values\n",
      "  File \"/opt/python_local-packages/lib/python2.7/site-packages/numpy/lib/format.py\", line 460, in _filter_header\n",
      "  File \"/usr/local/lib/python2.7/dist-packages/pandas/core/internals.py\", line 3838, in get_values\n",
      "    tokens.append(token)\n",
      "    return np.array(self._block.to_dense(),copy=False)\n",
      "    return tokenize.untokenize(tokens)\n",
      "    return np.array(self._block.to_dense(),copy=False)\n",
      "KeyboardInterrupt\n",
      "KeyboardInterrupt\n",
      "  File \"/usr/lib/python2.7/tokenize.py\", line 268, in untokenize\n",
      "    return ut.untokenize(iterable)\n",
      "  File \"/usr/lib/python2.7/tokenize.py\", line 209, in untokenize\n",
      "    self.tokens.append(token)\n",
      "KeyboardInterrupt\n"
     ]
    },
    {
     "ename": "SystemExit",
     "evalue": "",
     "output_type": "error",
     "traceback": [
      "An exception has occurred, use %tb to see the full traceback.\n",
      "\u001b[1;31mSystemExit\u001b[0m\n"
     ]
    },
    {
     "name": "stderr",
     "output_type": "stream",
     "text": [
      "To exit: use 'exit', 'quit', or Ctrl-D.\n"
     ]
    }
   ],
   "source": [
    "for i, j in combinations:\n",
    "    f = filter_2(mem_filtered, i, j, type_ig='Mem', donor='B4', bins=50)"
   ]
  },
  {
   "cell_type": "markdown",
   "metadata": {},
   "source": [
    "### B5"
   ]
  },
  {
   "cell_type": "code",
   "execution_count": null,
   "metadata": {
    "collapsed": true
   },
   "outputs": [],
   "source": [
    "in_file_b5 = DbCore.readDbFile('../new_seqs/B5_db-pass.tab_CON-FUN-N.tab')\n",
    "all_seqs_b5 = [f for f in in_file_b5]\n",
    "naive_b5 = [f for f in all_seqs_b5 if (f.subset=='N' and f.mut==0)]\n",
    "mem_b5 = [f for f in all_seqs_b5 if (f.subset in ['MemA','MemG'])]\n",
    "\n",
    "naive_filtered_b5, naive_filtered_junctions_b5 = remove_duplicate_junctions(naive_b5)\n",
    "mem_filtered_b5, mem_filtered_junctions_b5 = remove_duplicate_junctions(mem_b5)"
   ]
  },
  {
   "cell_type": "code",
   "execution_count": null,
   "metadata": {
    "collapsed": true
   },
   "outputs": [],
   "source": [
    "X = pdc2.distance_matrix_parallel(naive_filtered_junctions, naive_filtered_junctions_b5, calcDist,condensed=False)"
   ]
  },
  {
   "cell_type": "code",
   "execution_count": null,
   "metadata": {
    "collapsed": false
   },
   "outputs": [],
   "source": [
    "# naive\n",
    "M = X + np.eye(X.shape[0]) if X.shape[0] == X.shape[1] and X[0,0] == 0 else X\n",
    "dist2nearest = np.array([np.min(r) for r in M])\n",
    "np.save(\"dist2nearest_plots/distances_B4_B5_naive_norm\", X)\n",
    "np.savetxt(\"dist2nearest_plots/distances_B4_B5_naive_norm.csv\", X,delimiter=',')\n",
    "f = plt.figure(figsize=(20,10))\n",
    "plt.hist(dist2nearest, bins=100)\n",
    "plt.title(\"Distances between B4-B5 Naive\");\n",
    "plt.ylabel('Count')\n",
    "plt.xlabel('Ham distance (normalised)')\n",
    "plt.savefig(\"dist2nearest_plots/distances_B4_B5_naive_norm\")"
   ]
  },
  {
   "cell_type": "code",
   "execution_count": null,
   "metadata": {
    "collapsed": true
   },
   "outputs": [],
   "source": [
    "def filter_3(igs1, igs2, lim_mut1, lim_mut2, type_ig='Mem', donor1='B4', donor2='B5', bins=100):\n",
    "    juncs1 = [re.sub('[\\.-]','N', str(ig.junction)) for ig in igs1 if lim_mut1[0] <= ig.mut < lim_mut1[1]]\n",
    "    juncs2 = [re.sub('[\\.-]','N', str(ig.junction)) for ig in igs2 if lim_mut2[0] <= ig.mut < lim_mut2[1]]\n",
    "    X = pdc2.distance_matrix_parallel(juncs1, juncs2, calcDist, condensed=False)\n",
    "    fn = \"dist2nearest_plots/distances_\"+donor1+'_'+donor2+'_'+type_ig.lower()+'_'+str(lim_mut1[0])+'-'+str(lim_mut1[1])+'_vs_'+str(lim_mut2[0])+'-'+str(lim_mut2[1])+\"_norm\"\n",
    "    np.save(fn, X)\n",
    "    np.savetxt(fn+'.csv', X, delimiter=',')\n",
    "    M = X + np.eye(X.shape[0]) if X.shape[0] == X.shape[1] and X[0,0] == 0 else X\n",
    "    f = plt.figure(figsize=(20,10))\n",
    "    dist2nearest = np.array([np.min(r) for r in M])\n",
    "    plt.hist(dist2nearest, bins=bins)\n",
    "    plt.title(\"Distances between \"+donor1+'-'+donor2+' '+type_ig+\" \"+str(lim_mut1[0])+\"-\"+str(lim_mut1[1])+\"% and \"+str(lim_mut2[0])+\"-\"+str(lim_mut2[1])+\"%\");\n",
    "    plt.ylabel('Count')\n",
    "    plt.xticks(np.linspace(0,1,21))\n",
    "    plt.xlabel('Ham distance (normalised)')\n",
    "    plt.savefig(fn)\n",
    "    plt.close()\n",
    "    return f"
   ]
  },
  {
   "cell_type": "code",
   "execution_count": null,
   "metadata": {
    "collapsed": false
   },
   "outputs": [],
   "source": [
    "# B4 and B5 same mut level\n",
    "combinations = [x for x in product(sets, sets) if x[0][0] == x[1][0]]\n",
    "for i, j in combinations:\n",
    "    f = filter_3(mem_filtered, mem_filtered_b5, i, j, type_ig='Mem', donor1='B4', donor2='B5', bins=100)\n",
    "    break"
   ]
  },
  {
   "cell_type": "code",
   "execution_count": null,
   "metadata": {
    "collapsed": true
   },
   "outputs": [],
   "source": []
  }
 ],
 "metadata": {
  "kernelspec": {
   "display_name": "Python 2",
   "language": "python",
   "name": "python2"
  },
  "language_info": {
   "codemirror_mode": {
    "name": "ipython",
    "version": 2
   },
   "file_extension": ".py",
   "mimetype": "text/x-python",
   "name": "python",
   "nbconvert_exporter": "python",
   "pygments_lexer": "ipython2",
   "version": "2.7.6"
  }
 },
 "nbformat": 4,
 "nbformat_minor": 0
}
